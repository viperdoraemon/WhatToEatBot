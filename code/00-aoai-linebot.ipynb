{
 "cells": [
  {
   "cell_type": "code",
   "execution_count": 1,
   "metadata": {},
   "outputs": [],
   "source": [
    "# !pip install flask\n",
    "# !pip install Jinja2\n",
    "# !pip install line-bot-sdk\n",
    "# !pip install openai\n",
    "# !pip install python-dotenv\n",
    "# !pip install ngrok\n",
    "# !pip install pyngrok"
   ]
  },
  {
   "cell_type": "code",
   "execution_count": 1,
   "metadata": {},
   "outputs": [],
   "source": [
    "from flask import Flask, request, abort, jsonify\n",
    "from pyngrok import ngrok\n",
    "from linebot import LineBotApi, WebhookHandler\n",
    "from linebot.models import (MessageEvent, TextMessage, TextSendMessage)\n",
    "from linebot.exceptions import (InvalidSignatureError)\n",
    "from dotenv import load_dotenv\n",
    "\n",
    "import os\n",
    "import openai\n",
    "import requests\n",
    "import json\n",
    "import logging"
   ]
  },
  {
   "cell_type": "code",
   "execution_count": 2,
   "metadata": {},
   "outputs": [],
   "source": [
    "!pip freeze > ../requirements.txt"
   ]
  },
  {
   "cell_type": "code",
   "execution_count": 3,
   "metadata": {},
   "outputs": [
    {
     "data": {
      "text/plain": [
       "'/workspaces/WhatToEatBot/code'"
      ]
     },
     "execution_count": 3,
     "metadata": {},
     "output_type": "execute_result"
    }
   ],
   "source": [
    "os.getcwd()"
   ]
  },
  {
   "cell_type": "code",
   "execution_count": 4,
   "metadata": {},
   "outputs": [
    {
     "data": {
      "text/plain": [
       "True"
      ]
     },
     "execution_count": 4,
     "metadata": {},
     "output_type": "execute_result"
    }
   ],
   "source": [
    "load_dotenv(\"../.env\")"
   ]
  },
  {
   "cell_type": "code",
   "execution_count": 5,
   "metadata": {},
   "outputs": [
    {
     "name": "stdout",
     "output_type": "stream",
     "text": [
      "Ngrok Auth Token:  2iTLla5ejhzjbKHztEVRWFMmlnu_3w6VzQmGdsMqtNF2rett9\n",
      "Port Number:  5000\n"
     ]
    }
   ],
   "source": [
    "line_channel_secret = os.getenv(\"LINE_CHANNEL_SECRET\")\n",
    "line_channel_access_token = os.getenv(\"LINE_CHANNEL_ACCESS_TOKEN\")\n",
    "azure_openai_key = os.getenv(\"AZURE_OPENAI_KEY\")\n",
    "azure_openai_endpoint = os.getenv(\"AZURE_OPENAI_ENDPOINT\")\n",
    "azure_openai_deployment_name = os.getenv(\"AZURE_OPENAI_DEPLOYMENT_NAME\")\n",
    "ngrok_auth_token = os.getenv(\"NGROK_AUTHTOKEN\")\n",
    "port_number = os.getenv(\"PORT_NUMBER\")\n",
    "\n",
    "# print(\"LINE Channel Secret: \", line_channel_secret)\n",
    "# print(\"LINE Channel Access Token: \", line_channel_access_token)\n",
    "# print(\"Azure OpenAI Key: \", azure_openai_key)\n",
    "# print(\"Azure OpenAI Endpoint: \", azure_openai_endpoint)\n",
    "# print(\"Azure OpenAI Deployment Name: \", azure_openai_deployment_name)\n",
    "print(\"Ngrok Auth Token: \", ngrok_auth_token)\n",
    "print(\"Port Number: \", port_number)"
   ]
  },
  {
   "cell_type": "code",
   "execution_count": 6,
   "metadata": {},
   "outputs": [
    {
     "name": "stderr",
     "output_type": "stream",
     "text": [
      "t=2024-07-05T06:42:39+0000 lvl=warn msg=\"ngrok config file found at both XDG and legacy locations, using XDG location\" xdg_path=/home/codespace/.config/ngrok/ngrok.yml legacy_path=/home/codespace/.ngrok2/ngrok.yml\n"
     ]
    },
    {
     "name": "stdout",
     "output_type": "stream",
     "text": [
      "https://4f1e-52-187-58-248.ngrok-free.app\n"
     ]
    }
   ],
   "source": [
    "ngrok.set_auth_token(\"ngrok_auth_token\")\n",
    "public_url =  ngrok.connect(5000).public_url\n",
    "print(public_url)"
   ]
  },
  {
   "cell_type": "code",
   "execution_count": 7,
   "metadata": {},
   "outputs": [
    {
     "name": "stderr",
     "output_type": "stream",
     "text": [
      "/tmp/ipykernel_8885/1933662980.py:2: LineBotSdkDeprecatedIn30: Call to deprecated class LineBotApi. (Use v3 class; linebot.v3.<feature>. See https://github.com/line/line-bot-sdk-python/blob/master/README.rst for more details.) -- Deprecated since version 3.0.0.\n",
      "  line_bot_api = LineBotApi(line_channel_access_token)\n",
      "/tmp/ipykernel_8885/1933662980.py:3: LineBotSdkDeprecatedIn30: Call to deprecated class WebhookHandler. (Use 'from linebot.v3.webhook import WebhookHandler' instead. See https://github.com/line/line-bot-sdk-python/blob/master/README.rst for more details.) -- Deprecated since version 3.0.0.\n",
      "  handler = WebhookHandler(line_channel_secret)\n"
     ]
    },
    {
     "name": "stdout",
     "output_type": "stream",
     "text": [
      "To acces the Gloable link please click https://632d-52-187-58-248.ngrok-free.app\n",
      " * Serving Flask app '__main__'\n",
      " * Debug mode: off\n"
     ]
    },
    {
     "name": "stderr",
     "output_type": "stream",
     "text": [
      "\u001b[31m\u001b[1mWARNING: This is a development server. Do not use it in a production deployment. Use a production WSGI server instead.\u001b[0m\n",
      " * Running on http://127.0.0.1:5000\n",
      "\u001b[33mPress CTRL+C to quit\u001b[0m\n",
      "127.0.0.1 - - [05/Jul/2024 06:42:55] \"GET / HTTP/1.1\" 200 -\n",
      "127.0.0.1 - - [05/Jul/2024 06:42:56] \"\u001b[33mGET /favicon.ico HTTP/1.1\u001b[0m\" 404 -\n",
      "127.0.0.1 - - [05/Jul/2024 06:43:14] \"POST / HTTP/1.1\" 200 -\n"
     ]
    }
   ],
   "source": [
    "# Initialize Line Bot API and Webhook Handler with the provided tokens\n",
    "line_bot_api = LineBotApi(line_channel_access_token)\n",
    "handler = WebhookHandler(line_channel_secret)\n",
    "\n",
    "# Initialize Flask app\n",
    "app = Flask(__name__)\n",
    "ngrok.set_auth_token(\"ngrok_auth_token\")\n",
    "public_url =  ngrok.connect(5000).public_url\n",
    "\n",
    "# Route for home page, handling both GET and POST methods\n",
    "@app.route(\"/\", methods=[\"GET\",\"POST\"])\n",
    "def home():\n",
    "    try:\n",
    "        signature = request.headers[\"X-Line-Signature\"]\n",
    "        body = request.get_data(as_text=True)\n",
    "        handler.handle(body, signature)\n",
    "    except:\n",
    "        pass\n",
    "    \n",
    "    return \"Hello Line Chatbot\"\n",
    "\n",
    "@handler.add(MessageEvent, message=TextMessage)\n",
    "def handle_text_message(event):\n",
    "    text = event.message.text\n",
    "    print(text)\n",
    "\n",
    "    prompt_text = text\n",
    "\n",
    "    response = openai.Completion.create(\n",
    "        model=model_use,\n",
    "        prompt=prompt_text,  \n",
    "        max_tokens=1024) # max 4096\n",
    "\n",
    "    text_out = response.choices[0].text \n",
    "    line_bot_api.reply_message(event.reply_token,\n",
    "                               TextSendMessage(text=text_out))\n",
    "    \n",
    "print(f\"To acces the Gloable link please click {public_url}\")\n",
    "\n",
    "if __name__ == \"__main__\":\n",
    "    # Run the Flask app\n",
    "    app.run(port = 5000)"
   ]
  },
  {
   "cell_type": "code",
   "execution_count": null,
   "metadata": {},
   "outputs": [],
   "source": []
  }
 ],
 "metadata": {
  "kernelspec": {
   "display_name": ".venv",
   "language": "python",
   "name": "python3"
  },
  "language_info": {
   "codemirror_mode": {
    "name": "ipython",
    "version": 3
   },
   "file_extension": ".py",
   "mimetype": "text/x-python",
   "name": "python",
   "nbconvert_exporter": "python",
   "pygments_lexer": "ipython3",
   "version": "3.10.13"
  }
 },
 "nbformat": 4,
 "nbformat_minor": 2
}
